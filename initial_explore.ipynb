{
 "cells": [
  {
   "cell_type": "code",
   "execution_count": 1,
   "id": "f759db5d",
   "metadata": {},
   "outputs": [],
   "source": [
    "import pandas as pd\n",
    "import sys"
   ]
  },
  {
   "cell_type": "code",
   "execution_count": 6,
   "id": "22972ad5",
   "metadata": {},
   "outputs": [
    {
     "name": "stdout",
     "output_type": "stream",
     "text": [
      "         athlete_name last_name   first_name  \\\n",
      "0  ALEXANDRIA DONAHUE   Donahue   Alexandria   \n",
      "1  ALEXANDRIA DONAHUE   Donahue   Alexandria   \n",
      "2  ALEXANDRIA DONAHUE   Donahue   Alexandria   \n",
      "3  ALEXANDRIA DONAHUE   Donahue   Alexandria   \n",
      "4  ALEXANDRIA DONAHUE   Donahue   Alexandria   \n",
      "\n",
      "                              athlete_id year_when_scraped            school  \\\n",
      "0  81_S'YRAM-.TS-TNUOM_EUHANODAIRDNAXELA              SR-4  MOUNT ST. MARY'S   \n",
      "1  81_S'YRAM-.TS-TNUOM_EUHANODAIRDNAXELA              SR-4  MOUNT ST. MARY'S   \n",
      "2  81_S'YRAM-.TS-TNUOM_EUHANODAIRDNAXELA              SR-4  MOUNT ST. MARY'S   \n",
      "3  81_S'YRAM-.TS-TNUOM_EUHANODAIRDNAXELA              SR-4  MOUNT ST. MARY'S   \n",
      "4  81_S'YRAM-.TS-TNUOM_EUHANODAIRDNAXELA              SR-4  MOUNT ST. MARY'S   \n",
      "\n",
      "                                  school_scraped_url division  \\\n",
      "0  https://tf.tfrrs.org/teams/tf/MD_college_f_Mou...       DI   \n",
      "1  https://tf.tfrrs.org/teams/tf/MD_college_f_Mou...       DI   \n",
      "2  https://tf.tfrrs.org/teams/tf/MD_college_f_Mou...       DI   \n",
      "3  https://tf.tfrrs.org/teams/tf/MD_college_f_Mou...       DI   \n",
      "4  https://tf.tfrrs.org/teams/tf/MD_college_f_Mou...       DI   \n",
      "\n",
      "                region main_conference  ... scraped_for_school  \\\n",
      "0  Mid-Atlantic Region  Metro Atlantic  ...   MOUNT ST. MARY'S   \n",
      "1  Mid-Atlantic Region  Metro Atlantic  ...   MOUNT ST. MARY'S   \n",
      "2  Mid-Atlantic Region  Metro Atlantic  ...   MOUNT ST. MARY'S   \n",
      "3  Mid-Atlantic Region  Metro Atlantic  ...   MOUNT ST. MARY'S   \n",
      "4  Mid-Atlantic Region  Metro Atlantic  ...   MOUNT ST. MARY'S   \n",
      "\n",
      "                                         athlete_url year_scraped_roster  \\\n",
      "0  https://www.tfrrs.org/athletes/3723706/Mount_S...                2015   \n",
      "1  https://www.tfrrs.org/athletes/3723706/Mount_S...                2015   \n",
      "2  https://www.tfrrs.org/athletes/3723706/Mount_S...                2015   \n",
      "3  https://www.tfrrs.org/athletes/3723706/Mount_S...                2015   \n",
      "4  https://www.tfrrs.org/athletes/3723706/Mount_S...                2015   \n",
      "\n",
      "   year_scraped_season year_scraped_year school_roster_size  parsed_date  \\\n",
      "0              outdoor              2015                 27   2015-05-02   \n",
      "1              outdoor              2015                 27   2015-05-02   \n",
      "2              outdoor              2015                 27   2015-05-02   \n",
      "3              outdoor              2015                 27   2015-04-18   \n",
      "4              outdoor              2015                 27   2015-04-18   \n",
      "\n",
      "   converted_performance  granular_performance school_state  \n",
      "0 0 days 00:00:11.740000                 11.74           MD  \n",
      "1 0 days 00:00:34.520000                 34.52           MD  \n",
      "2 0 days 00:00:49.650000                 49.65           MD  \n",
      "3 0 days 00:00:10.790000                 10.79           MD  \n",
      "4 0 days 00:00:35.420000                 35.42           MD  \n",
      "\n",
      "[5 rows x 34 columns]\n"
     ]
    }
   ],
   "source": [
    "\n",
    "file_path = r'C:\\Users\\leopo\\OneDrive\\Documents\\coding\\projects\\tfrrs_scraper\\data\\2015_to_2024'\n",
    "\n",
    "\n",
    "data = pd.read_feather(file_path)\n",
    "\n",
    "print(data.head())\n"
   ]
  },
  {
   "cell_type": "code",
   "execution_count": null,
   "id": "619dfc91",
   "metadata": {},
   "outputs": [],
   "source": []
  }
 ],
 "metadata": {
  "kernelspec": {
   "display_name": "track_datascience",
   "language": "python",
   "name": "python3"
  },
  "language_info": {
   "codemirror_mode": {
    "name": "ipython",
    "version": 3
   },
   "file_extension": ".py",
   "mimetype": "text/x-python",
   "name": "python",
   "nbconvert_exporter": "python",
   "pygments_lexer": "ipython3",
   "version": "3.13.5"
  }
 },
 "nbformat": 4,
 "nbformat_minor": 5
}
